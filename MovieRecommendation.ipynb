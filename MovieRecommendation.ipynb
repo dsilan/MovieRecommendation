{
  "nbformat": 4,
  "nbformat_minor": 0,
  "metadata": {
    "colab": {
      "name": "MovieRecommendation.ipynb",
      "provenance": [],
      "collapsed_sections": [],
      "authorship_tag": "ABX9TyMon8FgTmSXS/g2HKDcZjDw"
    },
    "kernelspec": {
      "name": "python3",
      "display_name": "Python 3"
    }
  },
  "cells": [
    {
      "cell_type": "code",
      "metadata": {
        "id": "qZHmnLF5F-Ee",
        "colab_type": "code",
        "colab": {}
      },
      "source": [
        "#Necessary libraries\n",
        "import numpy as np\n",
        "import pandas as pd\n",
        "from google.colab import files\n",
        "import sqlite3"
      ],
      "execution_count": 0,
      "outputs": []
    },
    {
      "cell_type": "code",
      "metadata": {
        "id": "HMzJ_xOWGTln",
        "colab_type": "code",
        "outputId": "33d1176c-3e95-48f7-8520-3f0a510ab7ce",
        "colab": {
          "resources": {
            "http://localhost:8080/nbextensions/google.colab/files.js": {
              "data": "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",
              "ok": true,
              "headers": [
                [
                  "content-type",
                  "application/javascript"
                ]
              ],
              "status": 200,
              "status_text": ""
            }
          },
          "base_uri": "https://localhost:8080/",
          "height": 74
        }
      },
      "source": [
        "#load datasets\n",
        "#we orginized the dataset; removed unnecessary columns and rows which has less than 6.5 averagerating etc.\n",
        "uploaded = files.upload()"
      ],
      "execution_count": 0,
      "outputs": [
        {
          "output_type": "display_data",
          "data": {
            "text/html": [
              "\n",
              "     <input type=\"file\" id=\"files-b2c46bd9-a0b9-45d2-bb4b-83bbd50525c4\" name=\"files[]\" multiple disabled />\n",
              "     <output id=\"result-b2c46bd9-a0b9-45d2-bb4b-83bbd50525c4\">\n",
              "      Upload widget is only available when the cell has been executed in the\n",
              "      current browser session. Please rerun this cell to enable.\n",
              "      </output>\n",
              "      <script src=\"/nbextensions/google.colab/files.js\"></script> "
            ],
            "text/plain": [
              "<IPython.core.display.HTML object>"
            ]
          },
          "metadata": {
            "tags": []
          }
        },
        {
          "output_type": "stream",
          "text": [
            "Saving imdb.csv to imdb.csv\n"
          ],
          "name": "stdout"
        }
      ]
    },
    {
      "cell_type": "code",
      "metadata": {
        "id": "EAvgtO_rTUa1",
        "colab_type": "code",
        "colab": {}
      },
      "source": [
        "movies = pd.read_csv('imdb.csv')"
      ],
      "execution_count": 0,
      "outputs": []
    },
    {
      "cell_type": "code",
      "metadata": {
        "id": "NmrqxYF8VzjZ",
        "colab_type": "code",
        "outputId": "6740f905-8a87-4abf-8ff1-0b4180b39157",
        "colab": {
          "base_uri": "https://localhost:8080/",
          "height": 299
        }
      },
      "source": [
        "movies.head()"
      ],
      "execution_count": 0,
      "outputs": [
        {
          "output_type": "execute_result",
          "data": {
            "text/html": [
              "<div>\n",
              "<style scoped>\n",
              "    .dataframe tbody tr th:only-of-type {\n",
              "        vertical-align: middle;\n",
              "    }\n",
              "\n",
              "    .dataframe tbody tr th {\n",
              "        vertical-align: top;\n",
              "    }\n",
              "\n",
              "    .dataframe thead th {\n",
              "        text-align: right;\n",
              "    }\n",
              "</style>\n",
              "<table border=\"1\" class=\"dataframe\">\n",
              "  <thead>\n",
              "    <tr style=\"text-align: right;\">\n",
              "      <th></th>\n",
              "      <th>tconst</th>\n",
              "      <th>primarytitle</th>\n",
              "      <th>originaltitle</th>\n",
              "      <th>startyear</th>\n",
              "      <th>runtimeminutes</th>\n",
              "      <th>genres</th>\n",
              "      <th>averagerating</th>\n",
              "      <th>numvotes</th>\n",
              "    </tr>\n",
              "  </thead>\n",
              "  <tbody>\n",
              "    <tr>\n",
              "      <th>0</th>\n",
              "      <td>tt0481580</td>\n",
              "      <td>Autism: The Musical</td>\n",
              "      <td>Autism: The Musical</td>\n",
              "      <td>2007</td>\n",
              "      <td>94</td>\n",
              "      <td>Documentary,Music</td>\n",
              "      <td>7.9</td>\n",
              "      <td>642.0</td>\n",
              "    </tr>\n",
              "    <tr>\n",
              "      <th>1</th>\n",
              "      <td>tt0481587</td>\n",
              "      <td>Muskrat Lovely</td>\n",
              "      <td>Muskrat Lovely</td>\n",
              "      <td>2005</td>\n",
              "      <td>57</td>\n",
              "      <td>Documentary</td>\n",
              "      <td>7.6</td>\n",
              "      <td>19.0</td>\n",
              "    </tr>\n",
              "    <tr>\n",
              "      <th>2</th>\n",
              "      <td>tt0481589</td>\n",
              "      <td>Naked in Ashes</td>\n",
              "      <td>Naked in Ashes</td>\n",
              "      <td>2005</td>\n",
              "      <td>103</td>\n",
              "      <td>Documentary</td>\n",
              "      <td>7.9</td>\n",
              "      <td>43.0</td>\n",
              "    </tr>\n",
              "    <tr>\n",
              "      <th>3</th>\n",
              "      <td>tt0481595</td>\n",
              "      <td>Operation Spring</td>\n",
              "      <td>Operation Spring</td>\n",
              "      <td>2005</td>\n",
              "      <td>92</td>\n",
              "      <td>Documentary</td>\n",
              "      <td>7.8</td>\n",
              "      <td>54.0</td>\n",
              "    </tr>\n",
              "    <tr>\n",
              "      <th>4</th>\n",
              "      <td>tt0481603</td>\n",
              "      <td>The Prince of Chess</td>\n",
              "      <td>The Prince of Chess</td>\n",
              "      <td>2005</td>\n",
              "      <td>50</td>\n",
              "      <td>Documentary</td>\n",
              "      <td>7.7</td>\n",
              "      <td>59.0</td>\n",
              "    </tr>\n",
              "  </tbody>\n",
              "</table>\n",
              "</div>"
            ],
            "text/plain": [
              "      tconst         primarytitle  ... averagerating  numvotes\n",
              "0  tt0481580  Autism: The Musical  ...           7.9     642.0\n",
              "1  tt0481587       Muskrat Lovely  ...           7.6      19.0\n",
              "2  tt0481589       Naked in Ashes  ...           7.9      43.0\n",
              "3  tt0481595     Operation Spring  ...           7.8      54.0\n",
              "4  tt0481603  The Prince of Chess  ...           7.7      59.0\n",
              "\n",
              "[5 rows x 8 columns]"
            ]
          },
          "metadata": {
            "tags": []
          },
          "execution_count": 6
        }
      ]
    },
    {
      "cell_type": "code",
      "metadata": {
        "id": "RH-ewIpE0tUb",
        "colab_type": "code",
        "outputId": "0a39e7af-dcb0-47c1-f7bc-1918107e5c01",
        "colab": {
          "base_uri": "https://localhost:8080/",
          "height": 590
        }
      },
      "source": [
        "movies.sort_values(by=['averagerating'], ascending=False)"
      ],
      "execution_count": 0,
      "outputs": [
        {
          "output_type": "execute_result",
          "data": {
            "text/html": [
              "<div>\n",
              "<style scoped>\n",
              "    .dataframe tbody tr th:only-of-type {\n",
              "        vertical-align: middle;\n",
              "    }\n",
              "\n",
              "    .dataframe tbody tr th {\n",
              "        vertical-align: top;\n",
              "    }\n",
              "\n",
              "    .dataframe thead th {\n",
              "        text-align: right;\n",
              "    }\n",
              "</style>\n",
              "<table border=\"1\" class=\"dataframe\">\n",
              "  <thead>\n",
              "    <tr style=\"text-align: right;\">\n",
              "      <th></th>\n",
              "      <th>tconst</th>\n",
              "      <th>primarytitle</th>\n",
              "      <th>originaltitle</th>\n",
              "      <th>startyear</th>\n",
              "      <th>runtimeminutes</th>\n",
              "      <th>genres</th>\n",
              "      <th>averagerating</th>\n",
              "      <th>numvotes</th>\n",
              "    </tr>\n",
              "  </thead>\n",
              "  <tbody>\n",
              "    <tr>\n",
              "      <th>6771</th>\n",
              "      <td>tt10315070</td>\n",
              "      <td>0010: The Sharks Make Contact - Part 2</td>\n",
              "      <td>0010: The Sharks Make Contact - Part 2</td>\n",
              "      <td>2019</td>\n",
              "      <td>115</td>\n",
              "      <td>Animation,Comedy,Sci-Fi</td>\n",
              "      <td>10.0</td>\n",
              "      <td>10.0</td>\n",
              "    </tr>\n",
              "    <tr>\n",
              "      <th>38959</th>\n",
              "      <td>tt6735740</td>\n",
              "      <td>Love in Kilnerry</td>\n",
              "      <td>Love in Kilnerry</td>\n",
              "      <td>2019</td>\n",
              "      <td>100</td>\n",
              "      <td>Comedy</td>\n",
              "      <td>10.0</td>\n",
              "      <td>2874.0</td>\n",
              "    </tr>\n",
              "    <tr>\n",
              "      <th>42524</th>\n",
              "      <td>tt7525642</td>\n",
              "      <td>A Medicine for the Mind</td>\n",
              "      <td>A Medicine for the Mind</td>\n",
              "      <td>2019</td>\n",
              "      <td>15</td>\n",
              "      <td>Comedy,Drama,Fantasy</td>\n",
              "      <td>10.0</td>\n",
              "      <td>145.0</td>\n",
              "    </tr>\n",
              "    <tr>\n",
              "      <th>7264</th>\n",
              "      <td>tt11248618</td>\n",
              "      <td>The Secret of Butterflies</td>\n",
              "      <td>The Secret of Butterflies</td>\n",
              "      <td>2019</td>\n",
              "      <td>84</td>\n",
              "      <td>Adventure,Animation,Comedy</td>\n",
              "      <td>10.0</td>\n",
              "      <td>6.0</td>\n",
              "    </tr>\n",
              "    <tr>\n",
              "      <th>25422</th>\n",
              "      <td>tt2990342</td>\n",
              "      <td>Centro de Dia</td>\n",
              "      <td>Centro de Dia</td>\n",
              "      <td>2017</td>\n",
              "      <td>94</td>\n",
              "      <td>Documentary</td>\n",
              "      <td>10.0</td>\n",
              "      <td>6.0</td>\n",
              "    </tr>\n",
              "    <tr>\n",
              "      <th>...</th>\n",
              "      <td>...</td>\n",
              "      <td>...</td>\n",
              "      <td>...</td>\n",
              "      <td>...</td>\n",
              "      <td>...</td>\n",
              "      <td>...</td>\n",
              "      <td>...</td>\n",
              "      <td>...</td>\n",
              "    </tr>\n",
              "    <tr>\n",
              "      <th>11621</th>\n",
              "      <td>tt1599315</td>\n",
              "      <td>In Organic We Trust</td>\n",
              "      <td>In Organic We Trust</td>\n",
              "      <td>2012</td>\n",
              "      <td>82</td>\n",
              "      <td>Documentary</td>\n",
              "      <td>6.5</td>\n",
              "      <td>96.0</td>\n",
              "    </tr>\n",
              "    <tr>\n",
              "      <th>35231</th>\n",
              "      <td>tt4844148</td>\n",
              "      <td>Mia and the White Lion</td>\n",
              "      <td>Mia et le lion blanc</td>\n",
              "      <td>2018</td>\n",
              "      <td>98</td>\n",
              "      <td>Adventure,Drama,Family</td>\n",
              "      <td>6.5</td>\n",
              "      <td>2541.0</td>\n",
              "    </tr>\n",
              "    <tr>\n",
              "      <th>31392</th>\n",
              "      <td>tt3896738</td>\n",
              "      <td>Hounds of Love</td>\n",
              "      <td>Hounds of Love</td>\n",
              "      <td>2016</td>\n",
              "      <td>108</td>\n",
              "      <td>Crime,Drama,Thriller</td>\n",
              "      <td>6.5</td>\n",
              "      <td>8781.0</td>\n",
              "    </tr>\n",
              "    <tr>\n",
              "      <th>40284</th>\n",
              "      <td>tt6193992</td>\n",
              "      <td>Neko Ninja</td>\n",
              "      <td>Nekonin</td>\n",
              "      <td>2017</td>\n",
              "      <td>95</td>\n",
              "      <td>Comedy,Drama</td>\n",
              "      <td>6.5</td>\n",
              "      <td>31.0</td>\n",
              "    </tr>\n",
              "    <tr>\n",
              "      <th>17214</th>\n",
              "      <td>tt1899193</td>\n",
              "      <td>Gen Zong Kong Ling Xue</td>\n",
              "      <td>Gen Zong Kong Ling Xue</td>\n",
              "      <td>2011</td>\n",
              "      <td>110</td>\n",
              "      <td>Comedy,Mystery</td>\n",
              "      <td>6.5</td>\n",
              "      <td>23.0</td>\n",
              "    </tr>\n",
              "  </tbody>\n",
              "</table>\n",
              "<p>46749 rows × 8 columns</p>\n",
              "</div>"
            ],
            "text/plain": [
              "           tconst  ... numvotes\n",
              "6771   tt10315070  ...     10.0\n",
              "38959   tt6735740  ...   2874.0\n",
              "42524   tt7525642  ...    145.0\n",
              "7264   tt11248618  ...      6.0\n",
              "25422   tt2990342  ...      6.0\n",
              "...           ...  ...      ...\n",
              "11621   tt1599315  ...     96.0\n",
              "35231   tt4844148  ...   2541.0\n",
              "31392   tt3896738  ...   8781.0\n",
              "40284   tt6193992  ...     31.0\n",
              "17214   tt1899193  ...     23.0\n",
              "\n",
              "[46749 rows x 8 columns]"
            ]
          },
          "metadata": {
            "tags": []
          },
          "execution_count": 7
        }
      ]
    },
    {
      "cell_type": "markdown",
      "metadata": {
        "id": "UaRadkc_ltuP",
        "colab_type": "text"
      },
      "source": [
        "**As you can see even if number of vote is poor it may cause that movie seem like it's successfull.**\n",
        "**So ratings and number of votes are both important for recommendation.**"
      ]
    },
    {
      "cell_type": "code",
      "metadata": {
        "id": "ypCV1cro6X6p",
        "colab_type": "code",
        "outputId": "85ea323c-78f5-49d5-f018-3dddf1c18beb",
        "colab": {
          "base_uri": "https://localhost:8080/",
          "height": 299
        }
      },
      "source": [
        "movies.sort_values(by=['numvotes'], ascending=False).head()"
      ],
      "execution_count": 0,
      "outputs": [
        {
          "output_type": "execute_result",
          "data": {
            "text/html": [
              "<div>\n",
              "<style scoped>\n",
              "    .dataframe tbody tr th:only-of-type {\n",
              "        vertical-align: middle;\n",
              "    }\n",
              "\n",
              "    .dataframe tbody tr th {\n",
              "        vertical-align: top;\n",
              "    }\n",
              "\n",
              "    .dataframe thead th {\n",
              "        text-align: right;\n",
              "    }\n",
              "</style>\n",
              "<table border=\"1\" class=\"dataframe\">\n",
              "  <thead>\n",
              "    <tr style=\"text-align: right;\">\n",
              "      <th></th>\n",
              "      <th>tconst</th>\n",
              "      <th>primarytitle</th>\n",
              "      <th>originaltitle</th>\n",
              "      <th>startyear</th>\n",
              "      <th>runtimeminutes</th>\n",
              "      <th>genres</th>\n",
              "      <th>averagerating</th>\n",
              "      <th>numvotes</th>\n",
              "    </tr>\n",
              "  </thead>\n",
              "  <tbody>\n",
              "    <tr>\n",
              "      <th>3761</th>\n",
              "      <td>tt0468569</td>\n",
              "      <td>The Dark Knight</td>\n",
              "      <td>The Dark Knight</td>\n",
              "      <td>2008</td>\n",
              "      <td>152</td>\n",
              "      <td>Action,Crime,Drama</td>\n",
              "      <td>9.0</td>\n",
              "      <td>2139554.0</td>\n",
              "    </tr>\n",
              "    <tr>\n",
              "      <th>10505</th>\n",
              "      <td>tt1375666</td>\n",
              "      <td>Inception</td>\n",
              "      <td>Inception</td>\n",
              "      <td>2010</td>\n",
              "      <td>148</td>\n",
              "      <td>Action,Adventure,Sci-Fi</td>\n",
              "      <td>8.8</td>\n",
              "      <td>1897466.0</td>\n",
              "    </tr>\n",
              "    <tr>\n",
              "      <th>10172</th>\n",
              "      <td>tt1345836</td>\n",
              "      <td>The Dark Knight Rises</td>\n",
              "      <td>The Dark Knight Rises</td>\n",
              "      <td>2012</td>\n",
              "      <td>164</td>\n",
              "      <td>Action,Thriller</td>\n",
              "      <td>8.4</td>\n",
              "      <td>1424430.0</td>\n",
              "    </tr>\n",
              "    <tr>\n",
              "      <th>1287</th>\n",
              "      <td>tt0816692</td>\n",
              "      <td>Interstellar</td>\n",
              "      <td>Interstellar</td>\n",
              "      <td>2014</td>\n",
              "      <td>169</td>\n",
              "      <td>Adventure,Drama,Sci-Fi</td>\n",
              "      <td>8.6</td>\n",
              "      <td>1352327.0</td>\n",
              "    </tr>\n",
              "    <tr>\n",
              "      <th>16746</th>\n",
              "      <td>tt1853728</td>\n",
              "      <td>Django Unchained</td>\n",
              "      <td>Django Unchained</td>\n",
              "      <td>2012</td>\n",
              "      <td>165</td>\n",
              "      <td>Drama,Western</td>\n",
              "      <td>8.4</td>\n",
              "      <td>1252402.0</td>\n",
              "    </tr>\n",
              "  </tbody>\n",
              "</table>\n",
              "</div>"
            ],
            "text/plain": [
              "          tconst           primarytitle  ... averagerating   numvotes\n",
              "3761   tt0468569        The Dark Knight  ...           9.0  2139554.0\n",
              "10505  tt1375666              Inception  ...           8.8  1897466.0\n",
              "10172  tt1345836  The Dark Knight Rises  ...           8.4  1424430.0\n",
              "1287   tt0816692           Interstellar  ...           8.6  1352327.0\n",
              "16746  tt1853728       Django Unchained  ...           8.4  1252402.0\n",
              "\n",
              "[5 rows x 8 columns]"
            ]
          },
          "metadata": {
            "tags": []
          },
          "execution_count": 8
        }
      ]
    },
    {
      "cell_type": "code",
      "metadata": {
        "id": "0n_8KZSe6wjC",
        "colab_type": "code",
        "outputId": "07e08d0b-f8a3-40f0-ff60-cd95685df987",
        "colab": {
          "base_uri": "https://localhost:8080/",
          "height": 50
        }
      },
      "source": [
        "genres = np.array(['Adventure','Sci-Fi','Animation','Comedy','Mystery','Thriller','Drama','Romance','Horror'])\n",
        "genres"
      ],
      "execution_count": 0,
      "outputs": [
        {
          "output_type": "execute_result",
          "data": {
            "text/plain": [
              "array(['Adventure', 'Sci-Fi', 'Animation', 'Comedy', 'Mystery',\n",
              "       'Thriller', 'Drama', 'Romance', 'Horror'], dtype='<U9')"
            ]
          },
          "metadata": {
            "tags": []
          },
          "execution_count": 9
        }
      ]
    },
    {
      "cell_type": "code",
      "metadata": {
        "id": "QfX_zpZQFN_p",
        "colab_type": "code",
        "outputId": "5ee8cf6f-c87a-4f3b-96c4-d726a25f1790",
        "colab": {
          "base_uri": "https://localhost:8080/",
          "height": 70
        }
      },
      "source": [
        "import matplotlib.pyplot as plt \n",
        "import seaborn as sns \n",
        "  \n",
        "sns.set_style('white') \n",
        "%matplotlib inline \n"
      ],
      "execution_count": 0,
      "outputs": [
        {
          "output_type": "stream",
          "text": [
            "/usr/local/lib/python3.6/dist-packages/statsmodels/tools/_testing.py:19: FutureWarning: pandas.util.testing is deprecated. Use the functions in the public API at pandas.testing instead.\n",
            "  import pandas.util.testing as tm\n"
          ],
          "name": "stderr"
        }
      ]
    },
    {
      "cell_type": "code",
      "metadata": {
        "id": "Evies75cGW_R",
        "colab_type": "code",
        "outputId": "f4cf87dd-eecc-4b7e-87cb-8b6d32a17854",
        "colab": {
          "base_uri": "https://localhost:8080/",
          "height": 282
        }
      },
      "source": [
        "# plot graph of 'num of ratings column' \n",
        "plt.figure(figsize =(10, 4)) \n",
        "  \n",
        "movies['averagerating'].hist(bins = 70)"
      ],
      "execution_count": 0,
      "outputs": [
        {
          "output_type": "execute_result",
          "data": {
            "text/plain": [
              "<matplotlib.axes._subplots.AxesSubplot at 0x7f6e49001208>"
            ]
          },
          "metadata": {
            "tags": []
          },
          "execution_count": 11
        },
        {
          "output_type": "display_data",
          "data": {
            "image/png": "[encoded data removed]",
            "text/plain": [
              "<Figure size 720x288 with 1 Axes>"
            ]
          },
          "metadata": {
            "tags": [],
            "needs_background": "light"
          }
        }
      ]
    },
    {
      "cell_type": "markdown",
      "metadata": {
        "id": "SjKnAxQHq3WV",
        "colab_type": "text"
      },
      "source": [
        "![image.png](data:image/png;base64,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)"
      ]
    },
    {
      "cell_type": "code",
      "metadata": {
        "id": "gW5kMzizq4zF",
        "colab_type": "code",
        "outputId": "b9817b5a-87db-412d-835c-d7ecffaba973",
        "colab": {
          "base_uri": "https://localhost:8080/",
          "height": 34
        }
      },
      "source": [
        "C = movies['averagerating'].mean()\n",
        "C"
      ],
      "execution_count": 0,
      "outputs": [
        {
          "output_type": "execute_result",
          "data": {
            "text/plain": [
              "7.411957475026195"
            ]
          },
          "metadata": {
            "tags": []
          },
          "execution_count": 12
        }
      ]
    },
    {
      "cell_type": "code",
      "metadata": {
        "id": "oxp10Y6zwyj4",
        "colab_type": "code",
        "outputId": "638508d1-cb3a-49a7-a93c-578149b6b0d6",
        "colab": {
          "base_uri": "https://localhost:8080/",
          "height": 34
        }
      },
      "source": [
        "# Calculate the minimum number of votes required to be in the chart, m\n",
        "m = movies['numvotes'].quantile(0.90)\n",
        "m"
      ],
      "execution_count": 0,
      "outputs": [
        {
          "output_type": "execute_result",
          "data": {
            "text/plain": [
              "2242.0"
            ]
          },
          "metadata": {
            "tags": []
          },
          "execution_count": 13
        }
      ]
    },
    {
      "cell_type": "code",
      "metadata": {
        "id": "GcLTeRPU1_gS",
        "colab_type": "code",
        "outputId": "61e701c2-f777-4b34-d366-ba141f9b8fcf",
        "colab": {
          "base_uri": "https://localhost:8080/",
          "height": 34
        }
      },
      "source": [
        "# Filter out all qualified movies into a new DataFrame\n",
        "q_movies = movies.copy().loc[movies['numvotes'] >= m]\n",
        "q_movies.shape\n"
      ],
      "execution_count": 0,
      "outputs": [
        {
          "output_type": "execute_result",
          "data": {
            "text/plain": [
              "(4676, 8)"
            ]
          },
          "metadata": {
            "tags": []
          },
          "execution_count": 14
        }
      ]
    },
    {
      "cell_type": "code",
      "metadata": {
        "id": "GxAqVTd38UU4",
        "colab_type": "code",
        "colab": {}
      },
      "source": [
        "# Function that computes the weighted rating of each movie\n",
        "def weighted_rating(data, m=m, C=C):\n",
        "    v = data['numvotes']\n",
        "    R = data['averagerating']\n",
        "    # Calculation based on the IMDB formula\n",
        "    return (v/(v+m) * R) + (m/(m+v) * C)"
      ],
      "execution_count": 0,
      "outputs": []
    },
    {
      "cell_type": "code",
      "metadata": {
        "id": "kCrlOXjG8pZ4",
        "colab_type": "code",
        "colab": {}
      },
      "source": [
        "# Define a new feature 'score' and calculate its value with `weighted_rating()`\n",
        "q_movies['score'] = q_movies.apply(weighted_rating, axis=1)"
      ],
      "execution_count": 0,
      "outputs": []
    },
    {
      "cell_type": "code",
      "metadata": {
        "id": "xsAbBwj---Zo",
        "colab_type": "code",
        "colab": {}
      },
      "source": [
        "#sort movies based on score calculated above\n",
        "q_movies = q_movies.sort_values('score', ascending=False)"
      ],
      "execution_count": 0,
      "outputs": []
    },
    {
      "cell_type": "code",
      "metadata": {
        "id": "d9_463Hs9F1Z",
        "colab_type": "code",
        "outputId": "72f86638-0f22-4558-8e13-c094a8122985",
        "colab": {
          "base_uri": "https://localhost:8080/",
          "height": 447
        }
      },
      "source": [
        "q_movies.head(10)"
      ],
      "execution_count": 0,
      "outputs": [
        {
          "output_type": "execute_result",
          "data": {
            "text/html": [
              "<div>\n",
              "<style scoped>\n",
              "    .dataframe tbody tr th:only-of-type {\n",
              "        vertical-align: middle;\n",
              "    }\n",
              "\n",
              "    .dataframe tbody tr th {\n",
              "        vertical-align: top;\n",
              "    }\n",
              "\n",
              "    .dataframe thead th {\n",
              "        text-align: right;\n",
              "    }\n",
              "</style>\n",
              "<table border=\"1\" class=\"dataframe\">\n",
              "  <thead>\n",
              "    <tr style=\"text-align: right;\">\n",
              "      <th></th>\n",
              "      <th>tconst</th>\n",
              "      <th>primarytitle</th>\n",
              "      <th>originaltitle</th>\n",
              "      <th>startyear</th>\n",
              "      <th>runtimeminutes</th>\n",
              "      <th>genres</th>\n",
              "      <th>averagerating</th>\n",
              "      <th>numvotes</th>\n",
              "      <th>score</th>\n",
              "    </tr>\n",
              "  </thead>\n",
              "  <tbody>\n",
              "    <tr>\n",
              "      <th>21955</th>\n",
              "      <td>tt2592910</td>\n",
              "      <td>CM101MMXI Fundamentals</td>\n",
              "      <td>CM101MMXI Fundamentals</td>\n",
              "      <td>2013</td>\n",
              "      <td>139</td>\n",
              "      <td>Comedy,Documentary</td>\n",
              "      <td>9.2</td>\n",
              "      <td>42164.0</td>\n",
              "      <td>9.109724</td>\n",
              "    </tr>\n",
              "    <tr>\n",
              "      <th>18293</th>\n",
              "      <td>tt2170667</td>\n",
              "      <td>Wheels</td>\n",
              "      <td>Wheels</td>\n",
              "      <td>2014</td>\n",
              "      <td>115</td>\n",
              "      <td>Drama</td>\n",
              "      <td>9.3</td>\n",
              "      <td>17442.0</td>\n",
              "      <td>9.084953</td>\n",
              "    </tr>\n",
              "    <tr>\n",
              "      <th>37301</th>\n",
              "      <td>tt5354160</td>\n",
              "      <td>Aynabaji</td>\n",
              "      <td>Aynabaji</td>\n",
              "      <td>2016</td>\n",
              "      <td>147</td>\n",
              "      <td>Crime,Mystery,Thriller</td>\n",
              "      <td>9.2</td>\n",
              "      <td>18807.0</td>\n",
              "      <td>9.009550</td>\n",
              "    </tr>\n",
              "    <tr>\n",
              "      <th>3761</th>\n",
              "      <td>tt0468569</td>\n",
              "      <td>The Dark Knight</td>\n",
              "      <td>The Dark Knight</td>\n",
              "      <td>2008</td>\n",
              "      <td>152</td>\n",
              "      <td>Action,Crime,Drama</td>\n",
              "      <td>9.0</td>\n",
              "      <td>2139554.0</td>\n",
              "      <td>8.998338</td>\n",
              "    </tr>\n",
              "    <tr>\n",
              "      <th>35879</th>\n",
              "      <td>tt5813916</td>\n",
              "      <td>The Mountain II</td>\n",
              "      <td>Dag II</td>\n",
              "      <td>2016</td>\n",
              "      <td>135</td>\n",
              "      <td>Action,Drama,War</td>\n",
              "      <td>9.0</td>\n",
              "      <td>101919.0</td>\n",
              "      <td>8.965818</td>\n",
              "    </tr>\n",
              "    <tr>\n",
              "      <th>43123</th>\n",
              "      <td>tt7738784</td>\n",
              "      <td>Peranbu</td>\n",
              "      <td>Peranbu</td>\n",
              "      <td>2018</td>\n",
              "      <td>147</td>\n",
              "      <td>Drama</td>\n",
              "      <td>9.2</td>\n",
              "      <td>10670.0</td>\n",
              "      <td>8.889530</td>\n",
              "    </tr>\n",
              "    <tr>\n",
              "      <th>38959</th>\n",
              "      <td>tt6735740</td>\n",
              "      <td>Love in Kilnerry</td>\n",
              "      <td>Love in Kilnerry</td>\n",
              "      <td>2019</td>\n",
              "      <td>100</td>\n",
              "      <td>Comedy</td>\n",
              "      <td>10.0</td>\n",
              "      <td>2874.0</td>\n",
              "      <td>8.865834</td>\n",
              "    </tr>\n",
              "    <tr>\n",
              "      <th>10505</th>\n",
              "      <td>tt1375666</td>\n",
              "      <td>Inception</td>\n",
              "      <td>Inception</td>\n",
              "      <td>2010</td>\n",
              "      <td>148</td>\n",
              "      <td>Action,Adventure,Sci-Fi</td>\n",
              "      <td>8.8</td>\n",
              "      <td>1897466.0</td>\n",
              "      <td>8.798362</td>\n",
              "    </tr>\n",
              "    <tr>\n",
              "      <th>34018</th>\n",
              "      <td>tt5275892</td>\n",
              "      <td>O.J.: Made in America</td>\n",
              "      <td>O.J.: Made in America</td>\n",
              "      <td>2016</td>\n",
              "      <td>467</td>\n",
              "      <td>Biography,Crime,Documentary</td>\n",
              "      <td>8.9</td>\n",
              "      <td>15528.0</td>\n",
              "      <td>8.712257</td>\n",
              "    </tr>\n",
              "    <tr>\n",
              "      <th>41878</th>\n",
              "      <td>tt7286456</td>\n",
              "      <td>Joker</td>\n",
              "      <td>Joker</td>\n",
              "      <td>2019</td>\n",
              "      <td>122</td>\n",
              "      <td>Crime,Drama,Thriller</td>\n",
              "      <td>8.7</td>\n",
              "      <td>502021.0</td>\n",
              "      <td>8.694273</td>\n",
              "    </tr>\n",
              "  </tbody>\n",
              "</table>\n",
              "</div>"
            ],
            "text/plain": [
              "          tconst            primarytitle  ...   numvotes     score\n",
              "21955  tt2592910  CM101MMXI Fundamentals  ...    42164.0  9.109724\n",
              "18293  tt2170667                  Wheels  ...    17442.0  9.084953\n",
              "37301  tt5354160                Aynabaji  ...    18807.0  9.009550\n",
              "3761   tt0468569         The Dark Knight  ...  2139554.0  8.998338\n",
              "35879  tt5813916         The Mountain II  ...   101919.0  8.965818\n",
              "43123  tt7738784                 Peranbu  ...    10670.0  8.889530\n",
              "38959  tt6735740        Love in Kilnerry  ...     2874.0  8.865834\n",
              "10505  tt1375666               Inception  ...  1897466.0  8.798362\n",
              "34018  tt5275892   O.J.: Made in America  ...    15528.0  8.712257\n",
              "41878  tt7286456                   Joker  ...   502021.0  8.694273\n",
              "\n",
              "[10 rows x 9 columns]"
            ]
          },
          "metadata": {
            "tags": []
          },
          "execution_count": 18
        }
      ]
    },
    {
      "cell_type": "code",
      "metadata": {
        "id": "Ffy_vboC9g8P",
        "colab_type": "code",
        "outputId": "49b10256-06d6-47e2-c7f1-c038dadcca92",
        "colab": {
          "base_uri": "https://localhost:8080/",
          "height": 333
        }
      },
      "source": [
        "q_movies.tail()"
      ],
      "execution_count": 0,
      "outputs": [
        {
          "output_type": "execute_result",
          "data": {
            "text/html": [
              "<div>\n",
              "<style scoped>\n",
              "    .dataframe tbody tr th:only-of-type {\n",
              "        vertical-align: middle;\n",
              "    }\n",
              "\n",
              "    .dataframe tbody tr th {\n",
              "        vertical-align: top;\n",
              "    }\n",
              "\n",
              "    .dataframe thead th {\n",
              "        text-align: right;\n",
              "    }\n",
              "</style>\n",
              "<table border=\"1\" class=\"dataframe\">\n",
              "  <thead>\n",
              "    <tr style=\"text-align: right;\">\n",
              "      <th></th>\n",
              "      <th>tconst</th>\n",
              "      <th>primarytitle</th>\n",
              "      <th>originaltitle</th>\n",
              "      <th>startyear</th>\n",
              "      <th>runtimeminutes</th>\n",
              "      <th>genres</th>\n",
              "      <th>averagerating</th>\n",
              "      <th>numvotes</th>\n",
              "      <th>score</th>\n",
              "    </tr>\n",
              "  </thead>\n",
              "  <tbody>\n",
              "    <tr>\n",
              "      <th>12030</th>\n",
              "      <td>tt1632708</td>\n",
              "      <td>Friends with Benefits</td>\n",
              "      <td>Friends with Benefits</td>\n",
              "      <td>2011</td>\n",
              "      <td>109</td>\n",
              "      <td>Comedy,Romance</td>\n",
              "      <td>6.5</td>\n",
              "      <td>323246.0</td>\n",
              "      <td>6.506282</td>\n",
              "    </tr>\n",
              "    <tr>\n",
              "      <th>2936</th>\n",
              "      <td>tt0438488</td>\n",
              "      <td>Terminator Salvation</td>\n",
              "      <td>Terminator Salvation</td>\n",
              "      <td>2009</td>\n",
              "      <td>115</td>\n",
              "      <td>Action,Sci-Fi</td>\n",
              "      <td>6.5</td>\n",
              "      <td>329291.0</td>\n",
              "      <td>6.506167</td>\n",
              "    </tr>\n",
              "    <tr>\n",
              "      <th>2515</th>\n",
              "      <td>tt0407304</td>\n",
              "      <td>War of the Worlds</td>\n",
              "      <td>War of the Worlds</td>\n",
              "      <td>2005</td>\n",
              "      <td>116</td>\n",
              "      <td>Adventure,Sci-Fi,Thriller</td>\n",
              "      <td>6.5</td>\n",
              "      <td>395525.0</td>\n",
              "      <td>6.505140</td>\n",
              "    </tr>\n",
              "    <tr>\n",
              "      <th>2267</th>\n",
              "      <td>tt0356910</td>\n",
              "      <td>Mr. &amp; Mrs. Smith</td>\n",
              "      <td>Mr. &amp; Mrs. Smith</td>\n",
              "      <td>2005</td>\n",
              "      <td>120</td>\n",
              "      <td>Action,Comedy,Crime</td>\n",
              "      <td>6.5</td>\n",
              "      <td>426798.0</td>\n",
              "      <td>6.504766</td>\n",
              "    </tr>\n",
              "    <tr>\n",
              "      <th>25358</th>\n",
              "      <td>tt2975590</td>\n",
              "      <td>Batman v Superman: Dawn of Justice</td>\n",
              "      <td>Batman v Superman: Dawn of Justice</td>\n",
              "      <td>2016</td>\n",
              "      <td>151</td>\n",
              "      <td>Action,Adventure,Sci-Fi</td>\n",
              "      <td>6.5</td>\n",
              "      <td>591074.0</td>\n",
              "      <td>6.503446</td>\n",
              "    </tr>\n",
              "  </tbody>\n",
              "</table>\n",
              "</div>"
            ],
            "text/plain": [
              "          tconst                        primarytitle  ...  numvotes     score\n",
              "12030  tt1632708               Friends with Benefits  ...  323246.0  6.506282\n",
              "2936   tt0438488                Terminator Salvation  ...  329291.0  6.506167\n",
              "2515   tt0407304                   War of the Worlds  ...  395525.0  6.505140\n",
              "2267   tt0356910                    Mr. & Mrs. Smith  ...  426798.0  6.504766\n",
              "25358  tt2975590  Batman v Superman: Dawn of Justice  ...  591074.0  6.503446\n",
              "\n",
              "[5 rows x 9 columns]"
            ]
          },
          "metadata": {
            "tags": []
          },
          "execution_count": 19
        }
      ]
    },
    {
      "cell_type": "markdown",
      "metadata": {
        "id": "wqV3Otq0vuDv",
        "colab_type": "text"
      },
      "source": [
        "Score işlemini tamamladıktan sonra bir sonraki aşama olarak gerçekleştirdiğimiz anket sonuçlarındaki kişilerin farklı ruh halindeyken yapacağı film tercihi sonuçlarını inceledik.\n",
        "Yüksek yüzde ile seçilen film türlerini tavsiye oluştururken göz önünde bulunduracağız.\n",
        "\n",
        "Aşağıda grafiklerin son halleri yer almaktadır."
      ]
    },
    {
      "cell_type": "markdown",
      "metadata": {
        "id": "fN_ar89Uu3fe",
        "colab_type": "text"
      },
      "source": [
        "![image.png](data:image/png;base64,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)"
      ]
    },
    {
      "cell_type": "markdown",
      "metadata": {
        "id": "xxmuOGudvjbZ",
        "colab_type": "text"
      },
      "source": [
        "![image.png](data:image/png;base64,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)"
      ]
    },
    {
      "cell_type": "markdown",
      "metadata": {
        "id": "sQmI_klEvkwX",
        "colab_type": "text"
      },
      "source": [
        "![image.png](data:image/png;base64,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)"
      ]
    },
    {
      "cell_type": "markdown",
      "metadata": {
        "id": "Bq7B-39fvpTG",
        "colab_type": "text"
      },
      "source": [
        "![image.png](data:image/png;base64,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)"
      ]
    },
    {
      "cell_type": "markdown",
      "metadata": {
        "id": "kaZt46tN0xfI",
        "colab_type": "text"
      },
      "source": [
        "Nötr, üzgün, mutlu ve sinirli için dört ayrı dictionary yapısı oluşturup **\"genre\":yüzde** şeklinde doldurma işlemini gerçekleştirdik. Grafiklere göre %20'den fazla yüzdesi olan genre'ları dikkate aldık. "
      ]
    },
    {
      "cell_type": "code",
      "metadata": {
        "id": "4ZhH6TbauVCa",
        "colab_type": "code",
        "colab": {}
      },
      "source": [
        "notr_mood_genres = {\n",
        "    'Adventure' : 0.37,\n",
        "    'Sci-Fi' : 0.51,\n",
        "    'Comedy':0.29,\n",
        "    'Mystery':0.29,\n",
        "    'Thriller':0.29\n",
        "}"
      ],
      "execution_count": 0,
      "outputs": []
    },
    {
      "cell_type": "code",
      "metadata": {
        "id": "p_9oVjj00WFk",
        "colab_type": "code",
        "colab": {}
      },
      "source": [
        "sad_mood_genres = {\n",
        "    'Comedy':0.33,\n",
        "    'Drama':0.41,\n",
        "    'Romance':0.32\n",
        "}"
      ],
      "execution_count": 0,
      "outputs": []
    },
    {
      "cell_type": "code",
      "metadata": {
        "id": "1qOKaZn-1g08",
        "colab_type": "code",
        "colab": {}
      },
      "source": [
        "happy_mood_genres = {\n",
        "    'Adventure' :0.41,\n",
        "     'Sci-Fi' :0.44,\n",
        "     'Animation':0.23,\n",
        "     'Comedy':0.47,\n",
        "     'Mystery':0.23,\n",
        "     'Thriller':0.23,\n",
        "     'Romance':0.34\n",
        "}"
      ],
      "execution_count": 0,
      "outputs": []
    },
    {
      "cell_type": "code",
      "metadata": {
        "id": "Uh0NMN1l2fCE",
        "colab_type": "code",
        "colab": {}
      },
      "source": [
        "angry_mood_genres = {\n",
        "    'Sci-Fi' : 0.20,\n",
        "    'Comedy':0.34,\n",
        "    'Mystery':0.25,\n",
        "    'Thriller':0.25,\n",
        "}"
      ],
      "execution_count": 0,
      "outputs": []
    },
    {
      "cell_type": "code",
      "metadata": {
        "id": "j6B_-dZK3R2l",
        "colab_type": "code",
        "colab": {}
      },
      "source": [
        "mood = \"\" #this variable will be fill from emotion rec. system"
      ],
      "execution_count": 0,
      "outputs": []
    },
    {
      "cell_type": "markdown",
      "metadata": {
        "id": "aKh9cpQI6cGS",
        "colab_type": "text"
      },
      "source": [
        "Bir döngü içerinde çalışacak duyguya yönelik tavsiye işleminin taslak yapısı aşağıdaki şekildedir. Her mod için ayrı fonksiyon oluşturulup eylem kısımlarında çağırılacaktır."
      ]
    },
    {
      "cell_type": "code",
      "metadata": {
        "id": "2NujFLMh3gVw",
        "colab_type": "code",
        "outputId": "854e4d8b-ac92-4797-eec3-152293e96330",
        "colab": {
          "base_uri": "https://localhost:8080/",
          "height": 34
        }
      },
      "source": [
        "if mood == \"Sad\":\n",
        "  print(\"Our recommendation for you is:\")\n",
        "elif mood == \"Happy\":\n",
        "  print(\"Our recommendation for you is:\")\n",
        "elif mood == \"Angry\":\n",
        "  print(\"Our recommendation for you is:\")\n",
        "else: #neutral\n",
        "  print(\"Our recommendation for you is:\")"
      ],
      "execution_count": 0,
      "outputs": [
        {
          "output_type": "stream",
          "text": [
            "Our recommendation for you is:\n"
          ],
          "name": "stdout"
        }
      ]
    }
  ]
}